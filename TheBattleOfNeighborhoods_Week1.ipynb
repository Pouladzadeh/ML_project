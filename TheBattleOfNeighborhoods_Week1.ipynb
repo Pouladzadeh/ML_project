{
 "cells": [
  {
   "cell_type": "markdown",
   "metadata": {},
   "source": [
    "# Capstone Project - The Battle of Neighborhoods (Week 1)"
   ]
  },
  {
   "cell_type": "markdown",
   "metadata": {},
   "source": [
    "## Introduction & Business Problem:\n",
    "\n",
    "### Problem Background:\n",
    "\n",
    "Toronto, is the capital of the province of Ontario, is a major Canadian city along Lake Ontario’s northwestern shore with a population of 2,531,571 in 2016. It's a dynamic metropolis with a core of soaring skyscrapers. It is multicultural and provides a business-oriented environment including high tech, banking and finance, real estate, tourism, transportation, advertising, fashion and so on.\n",
    "\n",
    "Also, in the city of Toronto, the market is highly competitive and costly. Thus, any new business venture needs more analysis. The insights derived from analysis need a high understanding of the business environment which help improve the strategy of marketing. Also, heps in the reduction of risk.\n"
   ]
  },
  {
   "cell_type": "markdown",
   "metadata": {},
   "source": [
    "![title](Images/toronto.png)"
   ]
  },
  {
   "cell_type": "markdown",
   "metadata": {},
   "source": [
    "### Problem Description: "
   ]
  },
  {
   "cell_type": "markdown",
   "metadata": {},
   "source": [
    "1. Toronto's population\n",
    "2. Toronto's locations\n",
    "3. The demographics of Toronto (because Toronto also has established ethnic neighborhoods such as Chinatown, Corso Italia, Little Italy, Little India, Greektown, Koreatown, Little Jamaica, Little Portugal and Roncesvalles, which celebrate the city's multiculturalism).\n",
    "4. Are there any venues like Colege or universities, high tech or park etc nearby?\n",
    "5. Toronto's neighborhood cost.\n",
    "6. Toronto's neighborhood bars and restaurants.\n",
    "..."
   ]
  },
  {
   "cell_type": "markdown",
   "metadata": {},
   "source": [
    "### Data:"
   ]
  },
  {
   "cell_type": "markdown",
   "metadata": {},
   "source": [
    "#### Extract data of Toronto neighborhoods from Wikipedia"
   ]
  },
  {
   "cell_type": "markdown",
   "metadata": {},
   "source": [
    "In this project we considered Toronto for analysis and we will be using the the datasets below for analysing Toronto.\n",
    "https://en.wikipedia.orzg/wiki/List_of_postal_codes_of_Canada:_M,\n",
    "\n",
    "in order to obtain the data that is in the table of postal codes to figure out the locations and neighborhood of Toronto to realize which place could be most effective for opening a restaurant.\n"
   ]
  },
  {
   "cell_type": "markdown",
   "metadata": {},
   "source": [
    "![title](Images/DatasetImage.png)"
   ]
  },
  {
   "cell_type": "markdown",
   "metadata": {},
   "source": [
    "To this end, after analyzing the venues of data and Given that each postcode has a different radius passed to the venues request, it's better to represent the venues per postcode in terms of density, that's venues per are cover for each postcode, in this case the area cover in the venues search defined by the distance to the closest postcode. Thus, based on postal code clustering and realizing centroids of each cluster, the cluster names can be defined as:"
   ]
  },
  {
   "cell_type": "markdown",
   "metadata": {},
   "source": [
    "1. Low Venues Density\n",
    "2. Medium-Low Venues Density \n",
    "3. Medium-High Venues Density\n",
    "4. High Venues Density\n",
    "5. Very High Venues Density"
   ]
  },
  {
   "cell_type": "markdown",
   "metadata": {},
   "source": [
    "![title](Images/plot.png)"
   ]
  },
  {
   "cell_type": "code",
   "execution_count": null,
   "metadata": {},
   "outputs": [],
   "source": []
  }
 ],
 "metadata": {
  "kernelspec": {
   "display_name": "Python 3",
   "language": "python",
   "name": "python3"
  },
  "language_info": {
   "codemirror_mode": {
    "name": "ipython",
    "version": 3
   },
   "file_extension": ".py",
   "mimetype": "text/x-python",
   "name": "python",
   "nbconvert_exporter": "python",
   "pygments_lexer": "ipython3",
   "version": "3.7.1"
  }
 },
 "nbformat": 4,
 "nbformat_minor": 2
}

{
 "cells": [
  {
   "cell_type": "markdown",
   "metadata": {},
   "source": [
    "![title](Images/toronto.png)"
   ]
  },
  {
   "cell_type": "markdown",
   "metadata": {},
   "source": [
    "# Capstone Project - The Battle of Neighborhoods (Week 2)"
   ]
  },
  {
   "cell_type": "markdown",
   "metadata": {},
   "source": [
    "## 1. Introduction :\n",
    "\n",
    "This report is for the final course of the Data Science Specialization. A 9-courses series created by IBM, hosted on Coursera platform. The problem and the analysis approach are left for the learner to decide, with a requirement of leveraging the Foursquare location data to explore or compare neighborhoods or cities of your choice or to come up with a problem that you can use the Foursquare location data to solve.\n",
    "\n",
    "### Problem Statement: \n",
    "\n",
    "Toronto, is the capital of the province of Ontario, Canada, is a major Canadian city along Lake Ontario’s northwestern shore with a population of 2,531,571 in 2016. It's a dynamic metropolis with a core of soaring skyscrapers. It is multicultural and provides a business-oriented environment including high tech, banking and finance, real estate, tourism, transportation, advertising, fashion and so on.\n",
    "\n",
    "The mission of this project is to use Foursquare location data and regional clustering of venue information to determine which neighborhood in Toronto is the best place for travelers to visit. \n"
   ]
  },
  {
   "cell_type": "markdown",
   "metadata": {},
   "source": [
    "### Problem Description (Objective): "
   ]
  },
  {
   "cell_type": "markdown",
   "metadata": {},
   "source": [
    "1. Toronto's population\n",
    "2. Toronto's locations\n",
    "3. The demographics of Toronto (because Toronto also has established ethnic neighborhoods such as Chinatown, Corso Italia, Little Italy, Little India, Greektown, Koreatown, Little Jamaica, Little Portugal and Roncesvalles, which celebrate the city's multiculturalism).\n",
    "4. Are there any venues like Colege or universities, high tech or park etc nearby?\n",
    "5. Toronto's neighborhood bars and restaurants.\n",
    "..."
   ]
  },
  {
   "cell_type": "markdown",
   "metadata": {},
   "source": [
    "## 2. Data:"
   ]
  },
  {
   "cell_type": "markdown",
   "metadata": {},
   "source": [
    "#### Extract data of Toronto neighborhoods "
   ]
  },
  {
   "cell_type": "markdown",
   "metadata": {},
   "source": [
    "1. IIn this project we considered Toronto for analysis and we will be using the datasets below for analyzing Toronto. In order to obtain the data that is in the table of postal codes to figure out the locations and neighborhood of Toronto to realize which place could be most effective for travelers to visit.https://lvdesign.com.fr/coursera_data/toronto_base.csv\n",
    "\n"
   ]
  },
  {
   "cell_type": "markdown",
   "metadata": {},
   "source": [
    "![title](Images/data.png)"
   ]
  },
  {
   "cell_type": "markdown",
   "metadata": {},
   "source": [
    "2. For this project, we use the Foursquare API. One of the important features of this API is to provide a list of venues within a specific location, based on the Lat and Lon coordinates and a radius. The Foursquare API was used to find the venues on each postal code zone using a radius based on the area cover by each postcode without overlapping between them and a maximum number of venues per postal code of 100. Using K-Means clustering algorithm, the postal codes were grouped based on the venues density (venues/area) and the result was showed on a map of Toronto.\n",
    "\n"
   ]
  },
  {
   "cell_type": "markdown",
   "metadata": {},
   "source": [
    "![title](Images/Foursquare.png)"
   ]
  },
  {
   "cell_type": "markdown",
   "metadata": {},
   "source": [
    "## 3. Methodology:"
   ]
  },
  {
   "cell_type": "markdown",
   "metadata": {},
   "source": [
    "We prepare the data to be used for the machine learning process. \n",
    "\n",
    "1. Based on coordinate data, we extract data of Toronto neighborhoods from Wikipedia.​\n",
    "\n",
    "2. We need to explore and clean neighborhoods dataset.​\n",
    "\n",
    "3. Get venues in order to get the venues in the perimeter of each Postal code.​\n",
    "\n",
    "4. Analyze venues dataset in order to get a better sense of the best way of clustering the postal codes.​\n",
    "\n",
    "5. Cluster Postcodes, given that each postcode has a different radius passed to the venues request.​\n",
    "\n",
    "6. Examine each Clusters based on the centroids of each cluster.\n"
   ]
  },
  {
   "cell_type": "markdown",
   "metadata": {},
   "source": [
    "## 4. Results: "
   ]
  },
  {
   "cell_type": "markdown",
   "metadata": {},
   "source": [
    "After clustering the Toronto neighborhoods based on the results from Foursquare API data, we were able to separate our data set into three distinct clusters, and then from our target cluster, we can choose the best choice for our customers to open a new restaurant.\n",
    "Restaurants are the most common places of interest in most districts/clusters, followed by coffee shops and shopping malls.\n",
    "Cluster 1 contains the North York neighborhood of Toronto, with a larger variety of places of interest than the other clusters, and is therefore recommended to travelers."
   ]
  },
  {
   "cell_type": "markdown",
   "metadata": {},
   "source": [
    "![title](Images/venues.png)\n"
   ]
  },
  {
   "cell_type": "markdown",
   "metadata": {},
   "source": [
    "![title](Images/Clustering.png)"
   ]
  },
  {
   "cell_type": "markdown",
   "metadata": {},
   "source": [
    "## 5. Conclusion"
   ]
  },
  {
   "cell_type": "markdown",
   "metadata": {},
   "source": [
    "The project has explored the different neighborhoods of Toronto to find top places of interest based on Foursquare location data. The results indicate that the central area of the city encompasses the most districts with various restaurants, cafés, stores and shopping malls. A map of Toronto with different clusters as well as tables of top venues is presented as a reference for travelers and visitors."
   ]
  },
  {
   "cell_type": "code",
   "execution_count": null,
   "metadata": {},
   "outputs": [],
   "source": []
  }
 ],
 "metadata": {
  "kernelspec": {
   "display_name": "Python 3",
   "language": "python",
   "name": "python3"
  },
  "language_info": {
   "codemirror_mode": {
    "name": "ipython",
    "version": 3
   },
   "file_extension": ".py",
   "mimetype": "text/x-python",
   "name": "python",
   "nbconvert_exporter": "python",
   "pygments_lexer": "ipython3",
   "version": "3.7.1"
  }
 },
 "nbformat": 4,
 "nbformat_minor": 2
}
